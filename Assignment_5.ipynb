{
  "nbformat": 4,
  "nbformat_minor": 0,
  "metadata": {
    "colab": {
      "name": "Assignment_5",
      "provenance": []
    },
    "kernelspec": {
      "name": "python3",
      "display_name": "Python 3"
    },
    "language_info": {
      "name": "python"
    }
  },
  "cells": [
    {
      "cell_type": "markdown",
      "source": [
        "1. What does an empty dictionary&#39;s code look like?"
      ],
      "metadata": {
        "id": "XuSse5Ep7S0T"
      }
    },
    {
      "cell_type": "markdown",
      "source": [
        "An empty dectionary will have a curly braces with no element(key and value pair) in it.\n",
        "Eg x = {}"
      ],
      "metadata": {
        "id": "opqkUq7H7hTU"
      }
    },
    {
      "cell_type": "markdown",
      "source": [
        "2. What is the value of a dictionary value with the key &#39;foo&#39; and the value 42?"
      ],
      "metadata": {
        "id": "KxNgLWSSTecd"
      }
    },
    {
      "cell_type": "markdown",
      "source": [
        "The value will be 42.\n",
        "x = {'foo':42}\n",
        "\n",
        "x.values = 42"
      ],
      "metadata": {
        "id": "EbB7TYFbTgpT"
      }
    },
    {
      "cell_type": "markdown",
      "source": [
        "3. What is the most significant distinction between a dictionary and a list?"
      ],
      "metadata": {
        "id": "PlBUMJllaUep"
      }
    },
    {
      "cell_type": "markdown",
      "source": [
        "A dictionary is put as key - value pair where as there is no such thing as key in case of list. We can use lists index method to use as a key , for instance to retrive a spesific value.\n",
        "Dictionary is uses a curly braces where as list uses square braces."
      ],
      "metadata": {
        "id": "FxxjslIbab4H"
      }
    },
    {
      "cell_type": "markdown",
      "source": [
        "4. What happens if you try to access spam[&#39;foo&#39;] if spam is {&#39;bar&#39;: 100}?"
      ],
      "metadata": {
        "id": "1x-XECmea-id"
      }
    },
    {
      "cell_type": "markdown",
      "source": [
        "pyhton will throw an keyerror which means there is no key called 'foo' in the dictionary.\n",
        "\n",
        "\n"
      ],
      "metadata": {
        "id": "EQ0n1gpnbD11"
      }
    },
    {
      "cell_type": "markdown",
      "source": [
        "5. If a dictionary is stored in spam, what is the difference between the expressions &#39;cat&#39; in spam and\n",
        "&#39;cat&#39; in spam.keys()?"
      ],
      "metadata": {
        "id": "QITD0S4jbko1"
      }
    },
    {
      "cell_type": "markdown",
      "source": [
        " 'cat' in spam is a value where as  'cat' in spam.keys() is a key."
      ],
      "metadata": {
        "id": "NDqjgw0Tbrzb"
      }
    },
    {
      "cell_type": "markdown",
      "source": [
        "7. What is a shortcut for the following code?\n",
        "\n",
        "if &#39;color&#39; not in spam:\n",
        "\n",
        "spam[&#39;color&#39;] = &#39;black&#39;"
      ],
      "metadata": {
        "id": "Mmw1-cJccDz8"
      }
    },
    {
      "cell_type": "markdown",
      "source": [
        "if 'color' in spam.keys()==False:\n",
        "\n",
        "  spam['color'] = 'black'\n",
        "\n",
        "\n"
      ],
      "metadata": {
        "id": "GtoEIYr_cJ5i"
      }
    },
    {
      "cell_type": "markdown",
      "source": [
        "8. How do you &quot;pretty print&quot; dictionary values using which module and function?"
      ],
      "metadata": {
        "id": "6TmRRjS0yrdZ"
      }
    },
    {
      "cell_type": "markdown",
      "source": [
        "First import pprint function  from pprint module and use pprint() instead of regular print() function.\n",
        "\n",
        "from pprint import pprint\n",
        "pprint(spam)"
      ],
      "metadata": {
        "id": "LB8utYdfzKiT"
      }
    },
    {
      "cell_type": "code",
      "source": [
        ""
      ],
      "metadata": {
        "id": "oQLoRxcfLCz7"
      },
      "execution_count": null,
      "outputs": []
    }
  ]
}